{
 "cells": [
  {
   "cell_type": "markdown",
   "metadata": {},
   "source": [
    "# Boundary value problem\n",
    "\n",
    "### In general case:\n",
    "\n",
    "$L[y]=y''+p(x)y+q(x)y=f(x)$\n",
    "\n",
    "$l_a[y]=\\alpha_0y(a)+\\alpha_1y'(a)=A$\n",
    "\n",
    "$l_b[y]=\\beta_0y(b)+\\beta_1y'(b)=B$\n",
    "\n",
    "for $x\\in[a,b]$\n",
    "\n",
    "## 1. Consider the following boundary value problem:\n",
    "\n",
    "$\\frac{d^2y}{dx^2}-\\frac{dy}{dx}\\ln(x)-2y=1$ for $x \\in [0.5,1.5]$\n",
    "\n",
    "### with the boundary conditions:\n",
    "\n",
    "$y(0.5)+y'(0.5)=1$, $y(1.5)-y'(1.5)=0$\n",
    "\n",
    "1.1. Solve this problem using finite difference method of the second order. Use the uniform grid. Is this method stable for step size $h=0.125$? Find number of grid points required to achieve accuracy of the order of 1e-6.\n",
    "\n",
    "### *Don't forget to include the boundary conditions!*\n",
    "\n",
    "1.2. Use the first order one-sided numerical approximation for the first derivative and write a new scheme. Find number of grid points required to achieve accuracy of the order of 1e-6.\n",
    "\n",
    "1.3. Plot the solutions of both methods on the same figure. Compare results and discuss differences (if occurs)."
   ]
  },
  {
   "cell_type": "code",
   "execution_count": 1,
   "metadata": {},
   "outputs": [],
   "source": [
    "import numpy as np\n",
    "import matplotlib.pyplot as plt\n",
    "from scipy.linalg import solve\n",
    "\n",
    "#1.1.\n",
    "def SecondOrder(N,tau,p,a0):\n",
    "    a = [1 - p(a0+(i+1)*tau)/2*tau for i in range(N-1)]\n",
    "    c = [1 + p(a0+(i+1)*tau)/2*tau for i in range(N-1)]\n",
    "    \n",
    "    return np.asarray(a), np.asarray(c)\n",
    "\n",
    "def SecondOrderScheme(a0,b0,A,B,alpha,beta,p,q,f,N=100):\n",
    "    # in:\n",
    "    # a,b - float, limits of x, N - int, number of grid points\n",
    "    # A,B - float, boundary values\n",
    "    # alpha, beta - array of float, coefficients for boundary conditions in general case\n",
    "    # p(x), g(x), f(x) - functions from general equation\n",
    "    \n",
    "    #you can construct matrix of the system and use scipy.linalg.solve method to solve it: y=solve(M,f)\n",
    "    \n",
    "    # out: \n",
    "    # y - array of float, solution of the BVP\n",
    "    \n",
    "    #Конструируем и заполняем матрицу и ветор, затем решаем систему\n",
    "    M = np.zeros((N+1, N+1))\n",
    "    d = np.zeros((N+1))\n",
    "    tau = (b0-a0)/N\n",
    "    \n",
    "    M = M.astype(np.float)\n",
    "    d = d.astype(np.float)\n",
    "    \n",
    "    M[0][0] = - (alpha[1]*tau - alpha[0]*tau**2)\n",
    "    M[0][1] = alpha[1]*tau\n",
    "    d[0] = A*tau**2\n",
    "    \n",
    "    M[N][N-1] = - beta[1]*tau\n",
    "    M[N][N] = beta[1]*tau + beta[0]*tau**2\n",
    "    d[N] = B*tau**2\n",
    "\n",
    "    a, c = SecondOrder(N,tau,p,a0)\n",
    "    \n",
    "    r = np.asarray([q(a0+(i+1)*tau)*tau**2 for i in range(N-1)])\n",
    "    b = a + c - r\n",
    "    d1 = np.array([f(a0+(i+1)*tau)*tau**2 for i in range(N-1)])\n",
    "    \n",
    "    for i in range(N-1):\n",
    "        M[i+1][i] = a[i]\n",
    "        M[i+1][i+1] = -b[i]\n",
    "        M[i+1][i+2] = c[i]\n",
    "        \n",
    "        d[i+1] = d1[i]\n",
    "    \n",
    "    y = solve(M,d)\n",
    "     \n",
    "    return y\n",
    "\n",
    "#1.2.\n",
    "def FirstOrder(N,tau,p,a0):\n",
    "    a = [1 for i in range(N-1)]\n",
    "    c = [1 + p(a0+(i+1)*tau)*tau for i in range(N-1)]\n",
    "    return np.asarray(a), np.asarray(c)\n",
    "def FirstOrderScheme(a0,b0,A,B,alpha,beta,p,q,f,N=100):\n",
    "    # in:\n",
    "    # a,b - float, limits of x, N - int, number of grid points\n",
    "    # A,B - float, boundary values\n",
    "    # alpha, beta - array of float, coefficients for boundary conditions in general case\n",
    "    # p(x), g(x), f(x) - functions from general equation\n",
    "    \n",
    "    #you can construct matrix of the system and use scipy.linalg.solve method to solve it: y=solve(M,f)\n",
    "    \n",
    "    # out: \n",
    "    # y - array of float, solution of the BVP\n",
    "    M = np.zeros((N+1, N+1))\n",
    "    d = np.zeros((N+1))\n",
    "    tau = (b0-a0)/N\n",
    "    \n",
    "    M = M.astype(np.float)\n",
    "    d = d.astype(np.float)\n",
    "    \n",
    "    M[0][0] = - (alpha[1]*tau - alpha[0]*tau**2)\n",
    "    M[0][1] = alpha[1]*tau\n",
    "    d[0] = A*tau**2\n",
    "    \n",
    "    M[N][N-1] = - beta[1]*tau\n",
    "    M[N][N] = beta[1]*tau + beta[0]*tau**2\n",
    "    d[N] = B*tau**2\n",
    "    \n",
    "    a, c = FirstOrder(N,tau,p,a0)\n",
    "    \n",
    "    r = np.asarray([q(a0+(i+1)*tau)*tau**2 for i in range(N-1)])\n",
    "    b = a + c - r\n",
    "    d1 = np.array([f(a0+(i+1)*tau)*tau**2 for i in range(N-1)])\n",
    "    \n",
    "    for i in range(N-1):\n",
    "        M[i+1][i] = a[i]\n",
    "        M[i+1][i+1] = -b[i]\n",
    "        M[i+1][i+2] = c[i]\n",
    "        \n",
    "        d[i+1] = d1[i]\n",
    "    \n",
    "    y = solve(M,d)\n",
    "     \n",
    "    return y"
   ]
  },
  {
   "cell_type": "code",
   "execution_count": 2,
   "metadata": {},
   "outputs": [],
   "source": [
    "import math\n",
    "\n",
    "def p(x):\n",
    "    return -math.log(x)\n",
    "\n",
    "def q(x):\n",
    "    return -2\n",
    "\n",
    "def f(x):\n",
    "    return 1 \n",
    "\n",
    "a, b = 0.5, 1.5\n",
    "alpha, beta = [1,1], [1,-1]\n",
    "A, B = 1, 0"
   ]
  },
  {
   "cell_type": "code",
   "execution_count": 3,
   "metadata": {},
   "outputs": [
    {
     "data": {
      "image/png": "[encoded data removed]",
      "text/plain": [
       "<Figure size 432x288 with 1 Axes>"
      ]
     },
     "metadata": {
      "needs_background": "light"
     },
     "output_type": "display_data"
    }
   ],
   "source": [
    "N = 90\n",
    "y1 = FirstOrderScheme(a,b,A,B,alpha,beta,p,q,f,N)\n",
    "y2 = SecondOrderScheme(a,b,A,B,alpha,beta,p,q,f,N)\n",
    "\n",
    "x = np.linspace(a, b, N+1)\n",
    "plt.plot(x, y1, label='First order')\n",
    "plt.plot(x, y2, label='Second order')\n",
    "plt.legend()\n",
    "plt.show()"
   ]
  },
  {
   "cell_type": "code",
   "execution_count": 6,
   "metadata": {},
   "outputs": [],
   "source": [
    "def Pointsn(scheme,N, tol):\n",
    "    err = 1\n",
    "    y1 = scheme(a,b,A,B,alpha,beta,p,q,f,N)\n",
    "    \n",
    "    while True:\n",
    "        N = 2*N\n",
    "        y2 = scheme(a,b,A,B,alpha,beta,p,q,f,N)\n",
    "        u = y2[::2]-y1[:]\n",
    "        err = np.max(abs(u))\n",
    "        if err<tol:\n",
    "            break\n",
    "        else:\n",
    "            print(N,err)\n",
    "            y1 = y2\n",
    "        \n",
    "    return N, err\n"
   ]
  },
  {
   "cell_type": "code",
   "execution_count": 11,
   "metadata": {},
   "outputs": [
    {
     "name": "stdout",
     "output_type": "stream",
     "text": [
      "4 1.1956548867937737\n",
      "8 1.7664862497979728\n",
      "16 2.267285777246044\n",
      "32 2.394176672585841\n",
      "64 2.0100162593926054\n",
      "128 1.388696828523143\n",
      "256 0.8357410462696606\n",
      "512 0.4618904745346981\n",
      "1024 0.2433242053896727\n",
      "2048 0.12495177483430986\n"
     ]
    },
    {
     "data": {
      "text/plain": [
       "(4096, 0.06332432152378686)"
      ]
     },
     "execution_count": 11,
     "metadata": {},
     "output_type": "execute_result"
    }
   ],
   "source": [
    "Pointsn(SecondOrderScheme, 2, 1e-1)"
   ]
  },
  {
   "cell_type": "code",
   "execution_count": 9,
   "metadata": {},
   "outputs": [
    {
     "name": "stdout",
     "output_type": "stream",
     "text": [
      "4 1.2131843450212934\n",
      "8 1.7578240024515897\n",
      "16 2.246733452437618\n",
      "32 2.3917461529117636\n",
      "64 2.021855176053432\n",
      "128 1.4043795910493664\n",
      "256 0.8481587906860621\n",
      "512 0.46971865373750354\n",
      "1024 0.24772518044379943\n",
      "2048 0.12728617262480846\n"
     ]
    },
    {
     "data": {
      "text/plain": [
       "(4096, 0.06452666584469924)"
      ]
     },
     "execution_count": 9,
     "metadata": {},
     "output_type": "execute_result"
    }
   ],
   "source": [
    "Pointsn(FirstOrderScheme,2,1e-1)"
   ]
  },
  {
   "cell_type": "markdown",
   "metadata": {},
   "source": [
    "Second Order чуть поточнее на одинаковых N"
   ]
  },
  {
   "cell_type": "markdown",
   "metadata": {},
   "source": [
    "# 2. Consider the following boundary value problem:\n",
    "\n",
    "$\\frac{d^2y}{dx^2}+2\\frac{dy}{dx}-3xy=\\frac{2-8x}{x^3}$ for $x \\in [1,2]$\n",
    "\n",
    "### with the boundary conditions:\n",
    "\n",
    "$y(1)=1$, $y(2)=0.5$\n",
    "\n",
    "2.1. Solve this problem using finite difference method of the second order. Find number of grid points required to achieve accuracy of the order of 1e-6.\n",
    "\n",
    "2.2. Solve this problem using Galerkin method with power basis functions. Find number of grid points required to achieve accuracy of the order of 1e-6.\n",
    "\n",
    "2.3. Plot the solutions of both methods on the same figure. Compare results and discuss differences (if occurs)."
   ]
  },
  {
   "cell_type": "code",
   "execution_count": 12,
   "metadata": {},
   "outputs": [],
   "source": [
    "def p(x):\n",
    "    return 2\n",
    "\n",
    "def q(x):\n",
    "    return -2*x\n",
    "\n",
    "def f(x):\n",
    "    return (2-8*x)/x**3\n",
    "\n",
    "a, b = 1, 2\n",
    "alpha, beta = [1, 0], [1, 0]\n",
    "A, B = 1, 0.5"
   ]
  },
  {
   "cell_type": "code",
   "execution_count": 14,
   "metadata": {},
   "outputs": [
    {
     "data": {
      "image/png": "[encoded data removed]",
      "text/plain": [
       "<Figure size 432x288 with 1 Axes>"
      ]
     },
     "metadata": {
      "needs_background": "light"
     },
     "output_type": "display_data"
    }
   ],
   "source": [
    "N = 90\n",
    "y = SecondOrderScheme(a,b,A,B,alpha,beta,p,q,f,N)\n",
    "\n",
    "x = np.linspace(a, b, N+1)\n",
    "plt.plot(x, y, label='Second order')\n",
    "plt.legend()\n",
    "plt.show()"
   ]
  },
  {
   "cell_type": "code",
   "execution_count": 16,
   "metadata": {},
   "outputs": [
    {
     "name": "stdout",
     "output_type": "stream",
     "text": [
      "4 0.0023491519245341097\n",
      "8 0.000731393713930939\n",
      "16 0.00019074405742114386\n",
      "32 4.850663218625151e-05\n",
      "64 1.2185221170968319e-05\n",
      "128 3.049886421968573e-06\n"
     ]
    },
    {
     "data": {
      "text/plain": [
       "(256, 7.626783539160797e-07)"
      ]
     },
     "execution_count": 16,
     "metadata": {},
     "output_type": "execute_result"
    }
   ],
   "source": [
    "Pointsn(SecondOrderScheme,2,1e-6)"
   ]
  },
  {
   "cell_type": "code",
   "execution_count": null,
   "metadata": {},
   "outputs": [],
   "source": []
  }
 ],
 "metadata": {
  "kernelspec": {
   "display_name": "Python 3",
   "language": "python",
   "name": "python3"
  },
  "language_info": {
   "codemirror_mode": {
    "name": "ipython",
    "version": 3
   },
   "file_extension": ".py",
   "mimetype": "text/x-python",
   "name": "python",
   "nbconvert_exporter": "python",
   "pygments_lexer": "ipython3",
   "version": "3.7.6"
  }
 },
 "nbformat": 4,
 "nbformat_minor": 2
}
