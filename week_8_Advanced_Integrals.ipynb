{
 "cells": [
  {
   "cell_type": "markdown",
   "metadata": {},
   "source": [
    "## Part 1. Gaussian quadrature\n",
    "\n",
    "The Gaussian quadrature method is one of the methods of numerical integration that allows you to increase the accuracy of integration, by using orthogonal polynomials and their roots as nodes.\n",
    "\n",
    "$$\n",
    "\\int_a^b \\!  w(x)\\, f(x)\\, dx \\approx \\sum_{k=1}^n w_k \\, f(x_k) \\;,\n",
    "$$\n",
    "\n",
    "here $\\omega$ is the weight function, this weight function determines the basis of orthogonal polynomials whose roots are used as integration nodes. If the function $f(x)$ is a polynomial, then such an integration method gives *exact* value for the integral."
   ]
  },
  {
   "cell_type": "markdown",
   "metadata": {},
   "source": [
    "For example, let's calculate the following integral:\n",
    "$$\n",
    "\\int_{-1}^1 (7x^3 - 8 x^2 - 3 x + 3) dx  \\label{eq1}\\tag{1}\n",
    "$$\n",
    "\n",
    "Here function is already polynomial, so we put the weight function $\\omega(x) = 1$. Then the calculation of the integral reduces to the sum in the polynomials roots witch corresponding to the weight function $\\omega(x) = 1$. For example, here https://dlmf.nist.gov/18.3 you may see which basis of polynomials corresponds to your weight function.\n",
    "\n",
    "You may see, that Legendre polynomials correspond to our weight function. Now go to the documentation https://docs.scipy.org/doc/scipy/reference/special.html#orthogonal-polynomials. Here, the function *roots_legendre* immediately gives you the roots of the Legendre polynomial and weight at this roots (for Legendre polynomials all these weight are ones).\n"
   ]
  },
  {
   "cell_type": "markdown",
   "metadata": {},
   "source": [
    "### Task 1.1\n",
    "(20% of the grade)"
   ]
  },
  {
   "cell_type": "markdown",
   "metadata": {},
   "source": [
    "1. Calculate the exact value of the integral ([1](#mjx-eqn-eq1)) using a pen and paper (or in your mind). Remember it, then you will compare numerical results with it."
   ]
  },
  {
   "cell_type": "markdown",
   "metadata": {},
   "source": [
    "2/3"
   ]
  },
  {
   "cell_type": "markdown",
   "metadata": {},
   "source": [
    "2. Calculate the value of the integral ([1](#mjx-eqn-eq1)) using the usual method of numerical integration on a uniform grid (for example, implemented by you in week_6_calculus homework). Estimate the number of nodes needed to achieve relative accuracy $10^{-10}$."
   ]
  },
  {
   "cell_type": "code",
   "execution_count": 20,
   "metadata": {},
   "outputs": [
    {
     "data": {
      "text/plain": [
       "(0.6666669037453725, 4744)"
      ]
     },
     "execution_count": 20,
     "metadata": {},
     "output_type": "execute_result"
    }
   ],
   "source": [
    "import numpy as np\n",
    "\n",
    "def midpoint_rule(func, a, b, eps, double=False):\n",
    "    I = (b-a)*func((a+b)/2)\n",
    "    for N in range(3, 10000):\n",
    "        if double == True:\n",
    "            dt = np.linspace(a, b, 2*N)\n",
    "        else:\n",
    "            dt = np.linspace(a, b, N)\n",
    "        pt = (dt[1:]+dt[:-1])/2\n",
    "        h = dt[1]-dt[0]\n",
    "        Inew = h*np.sum(func(pt))\n",
    "        if abs(Inew-I)<eps:\n",
    "            return Inew, N\n",
    "        I = Inew\n",
    "def f(x):\n",
    "    return 7*x**3-8*x**2-3*x+3\n",
    "midpoint_rule(f, -1, 1, 1e-10)"
   ]
  },
  {
   "cell_type": "markdown",
   "metadata": {},
   "source": [
    "3. Calculate the integral ([1](#mjx-eqn-eq1)) using the roots of the Legendre polynomial from 1 to 6 degrees as nodes (to get roots and weigths use scipy.special.roots_legendre)"
   ]
  },
  {
   "cell_type": "code",
   "execution_count": 21,
   "metadata": {},
   "outputs": [
    {
     "name": "stdout",
     "output_type": "stream",
     "text": [
      "n = 1     Int = 6.0\n",
      "n = 2     Int = 0.6666666666666674\n",
      "n = 3     Int = 0.6666666666666639\n",
      "n = 4     Int = 0.6666666666666667\n"
     ]
    }
   ],
   "source": [
    "import scipy.special as sp\n",
    "for n in range(1,5):\n",
    "    vl,w = sp.roots_legendre(n)\n",
    "    print(\"n =\",n,\"    Int =\",sum(w*f(vl)))"
   ]
  },
  {
   "cell_type": "markdown",
   "metadata": {},
   "source": [
    "Compare the number of nodes needed to obtain the same accuracy in both numerical methods."
   ]
  },
  {
   "cell_type": "markdown",
   "metadata": {},
   "source": [
    "Видно, что второй метод работает существенно оптимальней"
   ]
  },
  {
   "cell_type": "markdown",
   "metadata": {},
   "source": [
    "### Task 1.2\n",
    "(20% of the grade)\n",
    "\n",
    "Calculate the value of the same integral, but on the interval from 0 to 10.\n",
    "$$\n",
    "\\int_{0}^{10} (7x^3 - 8 x^2 - 3 x + 3) dx \n",
    "$$\n",
    "\n",
    "Please note that you can no longer directly use Legendre polynomials, because they are defined for the interval (-1,1). But you can always make an *affine transformation* (a transformation that does not change the area) in order to go to the desired coordinate system."
   ]
  },
  {
   "cell_type": "code",
   "execution_count": 22,
   "metadata": {},
   "outputs": [
    {
     "name": "stdout",
     "output_type": "stream",
     "text": [
      "n = 1     Int= 6630.0\n",
      "n = 2     Int= 14713.333333333332\n",
      "n = 3     Int= 14713.333333333332\n",
      "n = 4     Int= 14713.333333333328\n"
     ]
    }
   ],
   "source": [
    "def f1(y):\n",
    "    return 70000*y**3-8000*y**2-300*y+30\n",
    "for n in range(1,5):\n",
    "    vl,w = sp.roots_sh_legendre(n)\n",
    "    print(\"n =\",n,\"    Int=\",sum(w*f1(vl)))"
   ]
  },
  {
   "cell_type": "markdown",
   "metadata": {},
   "source": [
    "С двух узлов получаем точное значение"
   ]
  },
  {
   "cell_type": "markdown",
   "metadata": {},
   "source": [
    "### Task 1.3\n",
    "(20% of the grade)\n",
    "\n",
    "Calculate the value of the following integral:\n",
    "$$\n",
    "\\int_{0}^{2\\pi} \\frac{cos(x) dx }{\\sqrt{4\\pi^2 - x^2}}\n",
    "$$\n",
    "by using the corresponding basis of orthogonal polynomials. \n",
    "Find the degree of the polynomial (number of nodes) at which the accuracy of the integral starts to exceed the double floating point accuracy."
   ]
  },
  {
   "cell_type": "markdown",
   "metadata": {},
   "source": [
    "Замена x=2*pi*v, тогда I = 1/2(J0(2*pi)*pi), (Пардон, не до конца освоил markdown)"
   ]
  },
  {
   "cell_type": "code",
   "execution_count": 23,
   "metadata": {},
   "outputs": [
    {
     "name": "stdout",
     "output_type": "stream",
     "text": [
      "n= 5     Int= 0.37786106634872507\n",
      "n= 6     Int= 0.34323498164389277\n",
      "n= 7     Int= 0.346177994276601\n",
      "n= 8     Int= 0.34600266762714105\n",
      "n= 9     Int= 0.34601041637332886\n",
      "n= 10     Int= 0.3460101517706765\n",
      "n= 11     Int= 0.3460101589691607\n",
      "n= 12     Int= 0.3460101588093585\n",
      "n= 13     Int= 0.3460101588123096\n",
      "n= 14     Int= 0.3460101588122638\n"
     ]
    }
   ],
   "source": [
    "for n in range(5,15):\n",
    "    vl,w = sp.roots_chebyt(n)\n",
    "    print(\"n=\", n,\"    Int=\", sum(w*np.cos(2* np.pi*vl)/2))"
   ]
  },
  {
   "cell_type": "markdown",
   "metadata": {},
   "source": [
    "## Part 2. Fredholm equation\n",
    "\n",
    "There are two types of Fredholm equations. \n",
    "\n",
    "1. Fredholm equation of the first kind:\n",
    "$$\n",
    "\\int_a^b \\! K(x, t)\\, \\color{blue}{f(t)} \\,dt = g(x)\n",
    "$$\n",
    "\n",
    "2. Fredholm equation of the second kind:\n",
    "$$\n",
    "\\lambda \\int_a^b\\! K(x, t)\\, \\color{blue}{f(t)} \\, dt + g(x) = \\color{blue}{f(x)}\n",
    "$$\n",
    "\n",
    "Here higtlighted function $f(x)$ is unknown, kernel function $K(x, t)$ and given function $g(x)$, $\\lambda$ is a real number. Numerically, Fredholm equations of the first kind are very ill-conditioned. We will consider equations of the second kind only."
   ]
  },
  {
   "cell_type": "markdown",
   "metadata": {},
   "source": [
    "The basic idea is to approximate the integral by some quadrature formula\n",
    "\n",
    "$$\n",
    "\\int_a^b \\! \\xi(t)\\, dt \\approx \\sum_j^N w_j\\, \\xi(t_j)\n",
    "$$\n",
    "\n",
    "with appropriate weights $w_j$ and nodes $t_j$ and $j=1, \\dots, N$. The accuracy of the approximation is controlled by $N$."
   ]
  },
  {
   "cell_type": "markdown",
   "metadata": {},
   "source": [
    "This way, the FE is approximated by \n",
    "\n",
    "$$\n",
    "\\lambda \\sum_j w_j\\, K(x, t_j)\\, \\color{blue}{f(t_j)} + g(x) = \\color{blue}{f(x)}\n",
    "$$\n",
    "\n",
    "Note that here $x$ is a continuous variable, and we only discretized $t$.\n"
   ]
  },
  {
   "cell_type": "markdown",
   "metadata": {},
   "source": [
    "Evaluating this equation on the grid $x = t_k$, we obtain\n",
    "\n",
    "$$\n",
    "\\lambda \\sum_j w_j \\, K_{k, j}\\, \\color{blue}{f_j} + g_k = \\color{blue}{f_k}\n",
    "$$\n",
    "\n",
    "where $f_j \\equiv f(t_j)$, $g_j \\equiv g(t_j)$ and $K_{k, j} \\equiv K(t_k, t_j)$. This is nothing but a system of linear algebraic equations for the vector of $\\color{blue}{f_j}$.\n",
    "\n",
    "Its solution gives the values of the unknown function $f(x)$ at the discrete values $x=t_j$ for $j=1, \\dots, N$."
   ]
  },
  {
   "cell_type": "markdown",
   "metadata": {},
   "source": [
    "### Task 2.1\n",
    "(20% of the grade)\n",
    "\n",
    "Solve an example Fredholm equation of the second kind\n",
    "\n",
    "$$\n",
    "f(x) = \\sin(\\pi x)  + \\frac{1}{2} \\int_0^1\\! f(t) \\, dt\n",
    "$$\n",
    "\n",
    "Here $a, b = 0, 1$, $\\lambda = \\dfrac{1}{2}$, the kernel is $K(x, t) = 1$ and the right-hand side $g(x) = \\sin(\\pi x)$.\n",
    "\n",
    "In fact, the exact solution is (В. А. Попов, Сборник задач по интегральным уравнениям, 2006, стр. 5)\n",
    "\n",
    "$$\n",
    "f(x) = \\sin(\\pi x) + \\frac{2}{\\pi}\n",
    "$$"
   ]
  },
  {
   "cell_type": "markdown",
   "metadata": {},
   "source": [
    "For the integral, we can use a Gaussian quadrature with the weight function $w(x) = 1$ on $(0, 1)$. Looking at http://dlmf.nist.gov/18.3, and find the corresponding function in *scipy.special* (pay attention to the integration interval).\n",
    "\n",
    "Compare the obtained function values with the true solution for different values of $N$. What value of $N$ can you stop at?"
   ]
  },
  {
   "cell_type": "code",
   "execution_count": 25,
   "metadata": {},
   "outputs": [
    {
     "name": "stdout",
     "output_type": "stream",
     "text": [
      "n = 1  f = 2.0  true solution = 1.6366197723675815  error = 0.3633802276324185\n",
      "n = 2  f = 2.4647620339182303  true solution = 2.505620561694278  error = 0.02889134205974216\n",
      "n = 3  f = 3.6046083901798758  true solution = 3.603282075382677  error = 0.0007657482051929123\n",
      "n = 4  f = 4.700775311399325  true solution = 4.700795392350633  error = 1.0040475654338188e-05\n",
      "n = 5  f = 5.803005035763186  true solution = 5.803004860239997  error = 7.849635643883314e-08\n",
      "n = 6  f = 6.907430465574742  true solution = 6.9074304665730795  error = 4.075691794594161e-10\n",
      "n = 7  f = 8.013101526128477  true solution = 8.01310152612449  error = 1.5066630835619936e-12\n",
      "n = 8  f = 9.119537696109074  true solution = 9.119537696109079  error = 2.6967223568632722e-15\n",
      "n = 9  f = 10.226476455409507  true solution = 10.226476455409507  error = 4.839349969133127e-16\n",
      "n = 10  f = 11.333762693100368  true solution = 11.33376269310036  error = 2.5414166642833352e-15\n",
      "n = 11  f = 12.441299027971695  true solution = 12.441299027971695  error = 4.2998752849492583e-16\n"
     ]
    }
   ],
   "source": [
    "def app(n):\n",
    "    vl, w = sp.roots_sh_legendre(n)\n",
    "    f = np.linalg.solve(np.eye(n)-1/2*w, np.sin(np.pi*vl))\n",
    "    return vl, f\n",
    "\n",
    "def exact(x):\n",
    "    return np.sin(np.pi*x)+2/np.pi\n",
    "\n",
    "for n in range(1,12):\n",
    "    vl, f2 = app(n)\n",
    "    er = np.linalg.norm(f2 - exact(vl))\n",
    "    print(\"n =\",n,\" f =\", sum(f2), \" true solution =\", sum(exact(vl)), \" error =\", er)"
   ]
  },
  {
   "cell_type": "markdown",
   "metadata": {},
   "source": [
    "Видим что норма разности уходит в машиный 0 при N - 9"
   ]
  },
  {
   "cell_type": "markdown",
   "metadata": {},
   "source": [
    "### Task 2.2\n",
    "(20% of the grade)\n",
    "\n",
    "An obvious issue with the privious result for $f(x)$ that it returns the solution on a fixed set of points. We do not control precise positions of these points.\n",
    "\n",
    "1. First, let's try to interpolate the values obtained in the previous task to a uniform grid of length 50. You may use any interpolation method. Compare the interpolation values with exact solution values."
   ]
  },
  {
   "cell_type": "code",
   "execution_count": 26,
   "metadata": {},
   "outputs": [
    {
     "name": "stdout",
     "output_type": "stream",
     "text": [
      "узлов - 5   среднеквадратичная ошибка = 0.018656017431925267\n",
      "узлов - 10   среднеквадратичная ошибка = 0.00035126845088719\n",
      "узлов - 15   среднеквадратичная ошибка = 7.081487243361819e-05\n",
      "узлов - 20   среднеквадратичная ошибка = 2.2846670136768998e-05\n",
      "узлов - 25   среднеквадратичная ошибка = 9.3900851906388e-06\n",
      "узлов - 30   среднеквадратичная ошибка = 4.599874456360888e-06\n",
      "узлов - 35   среднеквадратичная ошибка = 2.573612911847519e-06\n",
      "узлов - 40   среднеквадратичная ошибка = 1.4491237560543306e-06\n",
      "узлов - 45   среднеквадратичная ошибка = 9.271597683177724e-07\n"
     ]
    },
    {
     "data": {
      "image/png": "[encoded data removed]",
      "text/plain": [
       "<Figure size 432x288 with 1 Axes>"
      ]
     },
     "metadata": {
      "needs_background": "light"
     },
     "output_type": "display_data"
    }
   ],
   "source": [
    "import scipy.interpolate\n",
    "import matplotlib.pyplot as plt\n",
    "\n",
    "grid = np.linspace(0, 1, 50)\n",
    "for i in range(5,50,5):\n",
    "    vl, f = app(i)\n",
    "    interp = scipy.interpolate.CubicSpline(vl, f)\n",
    "    print(\"узлов -\", i, \"  среднеквадратичная ошибка =\", np.linalg.norm(exact(grid) - interp(grid)))\n",
    "plt.plot(grid, interp(grid), label=\"Interol\")\n",
    "plt.plot(grid, exact(grid), '*', label=\"Ground Truth\")\n",
    "plt.legend()\n",
    "plt.show()"
   ]
  },
  {
   "cell_type": "markdown",
   "metadata": {},
   "source": [
    "2. Now use the following formula to calculate the function at points of the same uniform grid.\n",
    "$$\n",
    "f(x) = g(x) + \\lambda \\sum_j^N w_j\\, K(x, t_j)\\, f(t_j)\n",
    "$$\n",
    "Again, compare the interpolation values with the exact solution values, and also with the direct interpolation method."
   ]
  },
  {
   "cell_type": "code",
   "execution_count": 28,
   "metadata": {},
   "outputs": [
    {
     "data": {
      "image/png": "[encoded data removed]",
      "text/plain": [
       "<Figure size 432x288 with 1 Axes>"
      ]
     },
     "metadata": {
      "needs_background": "light"
     },
     "output_type": "display_data"
    }
   ],
   "source": [
    "def f3(x,f):\n",
    "    n = len(f)\n",
    "    vl, w = sp.roots_sh_legendre(n)\n",
    "    return np.sin(np.pi*x)+(w/2@f)\n",
    "    \n",
    "plt.plot(grid, abs(f3(grid, f)- interp(grid)))\n",
    "plt.ylabel(\"abs difference\")\n",
    "plt.show()"
   ]
  },
  {
   "cell_type": "markdown",
   "metadata": {},
   "source": [
    "Из графика видно, что погрешность интерполяции порядка 10^-7, что не идеально"
   ]
  }
 ],
 "metadata": {
  "kernelspec": {
   "display_name": "Python 3",
   "language": "python",
   "name": "python3"
  },
  "language_info": {
   "codemirror_mode": {
    "name": "ipython",
    "version": 3
   },
   "file_extension": ".py",
   "mimetype": "text/x-python",
   "name": "python",
   "nbconvert_exporter": "python",
   "pygments_lexer": "ipython3",
   "version": "3.7.4"
  }
 },
 "nbformat": 4,
 "nbformat_minor": 4
}
